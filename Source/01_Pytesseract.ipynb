{
 "cells": [
  {
   "cell_type": "code",
   "execution_count": 22,
   "metadata": {},
   "outputs": [],
   "source": [
    "import numpy as np\n",
    "import pandas as pd\n",
    "import cv2\n",
    "import matplotlib.pyplot as plt\n",
    "import PIL\n",
    "import pytesseract\n",
    "import spacy\n",
    "import os"
   ]
  },
  {
   "cell_type": "code",
   "execution_count": 2,
   "metadata": {},
   "outputs": [],
   "source": [
    "img_cv = cv2.imread('E:/FILE of Trong/NLP Project/ner/data/052.jpeg')\n",
    "cv2.imshow('BusinessCard', img_cv)\n",
    "cv2.waitKey(0)\n",
    "cv2.destroyAllWindows()"
   ]
  },
  {
   "cell_type": "code",
   "execution_count": 3,
   "metadata": {},
   "outputs": [],
   "source": [
    "img_pl = PIL.Image.open('E:/FILE of Trong/NLP Project/ner/data/002.jpeg')"
   ]
  },
  {
   "cell_type": "code",
   "execution_count": 4,
   "metadata": {},
   "outputs": [
    {
     "data": {
      "text/plain": [
       "PIL.JpegImagePlugin.JpegImageFile"
      ]
     },
     "execution_count": 4,
     "metadata": {},
     "output_type": "execute_result"
    }
   ],
   "source": [
    "type(img_pl)"
   ]
  },
  {
   "cell_type": "code",
   "execution_count": 5,
   "metadata": {},
   "outputs": [],
   "source": [
    "# img_pl"
   ]
  },
  {
   "cell_type": "code",
   "execution_count": 6,
   "metadata": {},
   "outputs": [],
   "source": [
    "# img_cv = cv2.imread('E:/FILE of Trong/NLP Project/ner/data_vn/test_vn.jpg')\n",
    "# cv2.imshow('BusinessCard', img_cv)\n",
    "# cv2.waitKey(0)\n",
    "# cv2.destroyAllWindows()"
   ]
  },
  {
   "cell_type": "markdown",
   "metadata": {},
   "source": [
    "# Text from Image"
   ]
  },
  {
   "cell_type": "code",
   "execution_count": 7,
   "metadata": {},
   "outputs": [
    {
     "name": "stdout",
     "output_type": "stream",
     "text": [
      "HONDA\n",
      "\n",
      "DONNIE HANSEN\n",
      "MOTOCROSS TEAM RIDER\n",
      "TEAM HONDA\n",
      "\n",
      "AMERICAN HONDA MOTOR CO., INC.\n",
      "100 WEST ALONDRA BOULEVARD e GARDENA, CA 90247\n",
      "(213) 321-8680\n",
      "\f",
      "\n"
     ]
    }
   ],
   "source": [
    "text_cv = pytesseract.image_to_string(img_cv)\n",
    "print(text_cv)"
   ]
  },
  {
   "cell_type": "markdown",
   "metadata": {},
   "source": [
    "# Image to Data"
   ]
  },
  {
   "cell_type": "code",
   "execution_count": 18,
   "metadata": {},
   "outputs": [],
   "source": [
    "data = pytesseract.image_to_data(img_cv)"
   ]
  },
  {
   "cell_type": "code",
   "execution_count": 19,
   "metadata": {},
   "outputs": [
    {
     "data": {
      "text/plain": [
       "'level\\tpage_num\\tblock_num\\tpar_num\\tline_num\\tword_num\\tleft\\ttop\\twidth\\theight\\tconf\\ttext\\n1\\t1\\t0\\t0\\t0\\t0\\t0\\t0\\t720\\t401\\t-1\\t\\n2\\t1\\t1\\t0\\t0\\t0\\t36\\t29\\t207\\t25\\t-1\\t\\n3\\t1\\t1\\t1\\t0\\t0\\t36\\t29\\t207\\t25\\t-1\\t\\n4\\t1\\t1\\t1\\t1\\t0\\t36\\t29\\t207\\t25\\t-1\\t\\n5\\t1\\t1\\t1\\t1\\t1\\t36\\t29\\t207\\t25\\t95\\tHONDA\\n2\\t1\\t2\\t0\\t0\\t0\\t237\\t166\\t246\\t63\\t-1\\t\\n3\\t1\\t2\\t1\\t0\\t0\\t237\\t166\\t246\\t63\\t-1\\t\\n4\\t1\\t2\\t1\\t1\\t0\\t237\\t166\\t246\\t16\\t-1\\t\\n5\\t1\\t2\\t1\\t1\\t1\\t237\\t166\\t112\\t16\\t96\\tDONNIE\\n5\\t1\\t2\\t1\\t1\\t2\\t364\\t166\\t119\\t16\\t96\\tHANSEN\\n4\\t1\\t2\\t1\\t2\\t0\\t245\\t194\\t231\\t12\\t-1\\t\\n5\\t1\\t2\\t1\\t2\\t1\\t245\\t195\\t108\\t11\\t96\\tMOTOCROSS\\n5\\t1\\t2\\t1\\t2\\t2\\t362\\t194\\t48\\t11\\t96\\tTEAM\\n5\\t1\\t2\\t1\\t2\\t3\\t422\\t194\\t54\\t11\\t96\\tRIDER\\n4\\t1\\t2\\t1\\t3\\t0\\t299\\t218\\t123\\t11\\t-1\\t\\n5\\t1\\t2\\t1\\t3\\t1\\t299\\t218\\t49\\t11\\t94\\tTEAM\\n5\\t1\\t2\\t1\\t3\\t2\\t359\\t218\\t63\\t11\\t96\\tHONDA\\n2\\t1\\t3\\t0\\t0\\t0\\t35\\t304\\t649\\t67\\t-1\\t\\n3\\t1\\t3\\t1\\t0\\t0\\t35\\t304\\t649\\t67\\t-1\\t\\n4\\t1\\t3\\t1\\t1\\t0\\t35\\t304\\t648\\t22\\t-1\\t\\n5\\t1\\t3\\t1\\t1\\t1\\t35\\t307\\t184\\t17\\t96\\tAMERICAN\\n5\\t1\\t3\\t1\\t1\\t2\\t240\\t306\\t122\\t17\\t96\\tHONDA\\n5\\t1\\t3\\t1\\t1\\t3\\t383\\t305\\t123\\t18\\t92\\tMOTOR\\n5\\t1\\t3\\t1\\t1\\t4\\t527\\t305\\t66\\t21\\t79\\tCO.,\\n5\\t1\\t3\\t1\\t1\\t5\\t612\\t304\\t71\\t17\\t94\\tINC.\\n4\\t1\\t3\\t1\\t2\\t0\\t39\\t333\\t645\\t14\\t-1\\t\\n5\\t1\\t3\\t1\\t2\\t1\\t39\\t335\\t35\\t12\\t96\\t100\\n5\\t1\\t3\\t1\\t2\\t2\\t87\\t335\\t61\\t11\\t93\\tWEST\\n5\\t1\\t3\\t1\\t2\\t3\\t161\\t335\\t106\\t11\\t90\\tALONDRA\\n5\\t1\\t3\\t1\\t2\\t4\\t282\\t335\\t132\\t11\\t92\\tBOULEVARD\\n5\\t1\\t3\\t1\\t2\\t5\\t428\\t337\\t9\\t9\\t92\\te\\n5\\t1\\t3\\t1\\t2\\t6\\t452\\t334\\t112\\t13\\t92\\tGARDENA,\\n5\\t1\\t3\\t1\\t2\\t7\\t579\\t333\\t28\\t12\\t96\\tCA\\n5\\t1\\t3\\t1\\t2\\t8\\t620\\t333\\t64\\t12\\t96\\t90247\\n4\\t1\\t3\\t1\\t3\\t0\\t285\\t358\\t153\\t13\\t-1\\t\\n5\\t1\\t3\\t1\\t3\\t1\\t285\\t358\\t50\\t13\\t96\\t(213)\\n5\\t1\\t3\\t1\\t3\\t2\\t345\\t358\\t93\\t12\\t94\\t321-8680\\n'"
      ]
     },
     "execution_count": 19,
     "metadata": {},
     "output_type": "execute_result"
    }
   ],
   "source": [
    "data"
   ]
  },
  {
   "cell_type": "code",
   "execution_count": 20,
   "metadata": {},
   "outputs": [],
   "source": [
    "data_list = list(map(lambda x: x.split('\\t'), data.split('\\n')))"
   ]
  },
  {
   "cell_type": "code",
   "execution_count": 23,
   "metadata": {},
   "outputs": [],
   "source": [
    "df = pd.DataFrame(data_list[1:], columns = data_list[0])"
   ]
  },
  {
   "cell_type": "code",
   "execution_count": 25,
   "metadata": {},
   "outputs": [
    {
     "data": {
      "text/html": [
       "<div>\n",
       "<style scoped>\n",
       "    .dataframe tbody tr th:only-of-type {\n",
       "        vertical-align: middle;\n",
       "    }\n",
       "\n",
       "    .dataframe tbody tr th {\n",
       "        vertical-align: top;\n",
       "    }\n",
       "\n",
       "    .dataframe thead th {\n",
       "        text-align: right;\n",
       "    }\n",
       "</style>\n",
       "<table border=\"1\" class=\"dataframe\">\n",
       "  <thead>\n",
       "    <tr style=\"text-align: right;\">\n",
       "      <th></th>\n",
       "      <th>level</th>\n",
       "      <th>page_num</th>\n",
       "      <th>block_num</th>\n",
       "      <th>par_num</th>\n",
       "      <th>line_num</th>\n",
       "      <th>word_num</th>\n",
       "      <th>left</th>\n",
       "      <th>top</th>\n",
       "      <th>width</th>\n",
       "      <th>height</th>\n",
       "      <th>conf</th>\n",
       "      <th>text</th>\n",
       "    </tr>\n",
       "  </thead>\n",
       "  <tbody>\n",
       "    <tr>\n",
       "      <th>0</th>\n",
       "      <td>1</td>\n",
       "      <td>1</td>\n",
       "      <td>0</td>\n",
       "      <td>0</td>\n",
       "      <td>0</td>\n",
       "      <td>0</td>\n",
       "      <td>0</td>\n",
       "      <td>0</td>\n",
       "      <td>720</td>\n",
       "      <td>401</td>\n",
       "      <td>-1</td>\n",
       "      <td></td>\n",
       "    </tr>\n",
       "    <tr>\n",
       "      <th>1</th>\n",
       "      <td>2</td>\n",
       "      <td>1</td>\n",
       "      <td>1</td>\n",
       "      <td>0</td>\n",
       "      <td>0</td>\n",
       "      <td>0</td>\n",
       "      <td>36</td>\n",
       "      <td>29</td>\n",
       "      <td>207</td>\n",
       "      <td>25</td>\n",
       "      <td>-1</td>\n",
       "      <td></td>\n",
       "    </tr>\n",
       "    <tr>\n",
       "      <th>2</th>\n",
       "      <td>3</td>\n",
       "      <td>1</td>\n",
       "      <td>1</td>\n",
       "      <td>1</td>\n",
       "      <td>0</td>\n",
       "      <td>0</td>\n",
       "      <td>36</td>\n",
       "      <td>29</td>\n",
       "      <td>207</td>\n",
       "      <td>25</td>\n",
       "      <td>-1</td>\n",
       "      <td></td>\n",
       "    </tr>\n",
       "    <tr>\n",
       "      <th>3</th>\n",
       "      <td>4</td>\n",
       "      <td>1</td>\n",
       "      <td>1</td>\n",
       "      <td>1</td>\n",
       "      <td>1</td>\n",
       "      <td>0</td>\n",
       "      <td>36</td>\n",
       "      <td>29</td>\n",
       "      <td>207</td>\n",
       "      <td>25</td>\n",
       "      <td>-1</td>\n",
       "      <td></td>\n",
       "    </tr>\n",
       "    <tr>\n",
       "      <th>4</th>\n",
       "      <td>5</td>\n",
       "      <td>1</td>\n",
       "      <td>1</td>\n",
       "      <td>1</td>\n",
       "      <td>1</td>\n",
       "      <td>1</td>\n",
       "      <td>36</td>\n",
       "      <td>29</td>\n",
       "      <td>207</td>\n",
       "      <td>25</td>\n",
       "      <td>95</td>\n",
       "      <td>HONDA</td>\n",
       "    </tr>\n",
       "  </tbody>\n",
       "</table>\n",
       "</div>"
      ],
      "text/plain": [
       "  level page_num block_num par_num line_num word_num left top width height  \\\n",
       "0     1        1         0       0        0        0    0   0   720    401   \n",
       "1     2        1         1       0        0        0   36  29   207     25   \n",
       "2     3        1         1       1        0        0   36  29   207     25   \n",
       "3     4        1         1       1        1        0   36  29   207     25   \n",
       "4     5        1         1       1        1        1   36  29   207     25   \n",
       "\n",
       "  conf   text  \n",
       "0   -1         \n",
       "1   -1         \n",
       "2   -1         \n",
       "3   -1         \n",
       "4   95  HONDA  "
      ]
     },
     "execution_count": 25,
     "metadata": {},
     "output_type": "execute_result"
    }
   ],
   "source": [
    "df.head()"
   ]
  },
  {
   "cell_type": "code",
   "execution_count": 26,
   "metadata": {},
   "outputs": [
    {
     "name": "stdout",
     "output_type": "stream",
     "text": [
      "<class 'pandas.core.frame.DataFrame'>\n",
      "RangeIndex: 38 entries, 0 to 37\n",
      "Data columns (total 12 columns):\n",
      " #   Column     Non-Null Count  Dtype \n",
      "---  ------     --------------  ----- \n",
      " 0   level      38 non-null     object\n",
      " 1   page_num   37 non-null     object\n",
      " 2   block_num  37 non-null     object\n",
      " 3   par_num    37 non-null     object\n",
      " 4   line_num   37 non-null     object\n",
      " 5   word_num   37 non-null     object\n",
      " 6   left       37 non-null     object\n",
      " 7   top        37 non-null     object\n",
      " 8   width      37 non-null     object\n",
      " 9   height     37 non-null     object\n",
      " 10  conf       37 non-null     object\n",
      " 11  text       37 non-null     object\n",
      "dtypes: object(12)\n",
      "memory usage: 3.7+ KB\n"
     ]
    }
   ],
   "source": [
    "df.info()"
   ]
  },
  {
   "cell_type": "code",
   "execution_count": 27,
   "metadata": {},
   "outputs": [],
   "source": [
    "df.dropna(inplace = True)\n",
    "col_int = ['level', 'page_num', 'block_num', 'par_num', 'line_num', 'word_num', 'left', 'top', 'width', 'height', 'conf']\n",
    "df[col_int] = df[col_int].astype(int)"
   ]
  },
  {
   "cell_type": "code",
   "execution_count": 28,
   "metadata": {},
   "outputs": [
    {
     "data": {
      "text/plain": [
       "level         int32\n",
       "page_num      int32\n",
       "block_num     int32\n",
       "par_num       int32\n",
       "line_num      int32\n",
       "word_num      int32\n",
       "left          int32\n",
       "top           int32\n",
       "width         int32\n",
       "height        int32\n",
       "conf          int32\n",
       "text         object\n",
       "dtype: object"
      ]
     },
     "execution_count": 28,
     "metadata": {},
     "output_type": "execute_result"
    }
   ],
   "source": [
    "df.dtypes"
   ]
  },
  {
   "cell_type": "code",
   "execution_count": 38,
   "metadata": {},
   "outputs": [],
   "source": [
    "image = img_cv.copy()\n",
    "level = 'word'\n",
    "for l, x, y, w, h, c, txt in df[['level', 'left', 'top', 'width', 'height','conf', 'text']].values:\n",
    "    # print(l, x, y, w, h, c)\n",
    "    if level == 'page':\n",
    "        if l == 1:\n",
    "            cv2.rectangle(image, (x, y), (x+w, y+h), (0,0,0), 2)\n",
    "        else:\n",
    "            continue\n",
    "    elif level == 'block':\n",
    "        if l == 2:\n",
    "            cv2.rectangle(image, (x, y), (x+w, y+h), (255,0,0), 2)\n",
    "        else:\n",
    "            continue\n",
    "    elif level == 'para':\n",
    "        if l == 3:\n",
    "            cv2.rectangle(image, (x, y), (x+w, y+h), (0,255,0), 2)\n",
    "        else:\n",
    "            continue\n",
    "    elif level == 'line':\n",
    "        if l == 4:\n",
    "            cv2.rectangle(image, (x, y), (x+w, y+h), (0,255,0), 2)\n",
    "        else:\n",
    "            continue\n",
    "    elif level == 'word':\n",
    "        if l == 5:\n",
    "            cv2.rectangle(image, (x,y), (x+w,y+h), (0,255,0),2)\n",
    "            cv2.putText(image, txt, (x,y), cv2.FONT_HERSHEY_PLAIN,1,(255,0,0),2)\n",
    "        else:\n",
    "            continue\n",
    "cv2.imshow(\"Bounding Box\", image)\n",
    "cv2.waitKey()\n",
    "cv2.destroyAllWindows()"
   ]
  },
  {
   "cell_type": "code",
   "execution_count": null,
   "metadata": {},
   "outputs": [],
   "source": []
  }
 ],
 "metadata": {
  "kernelspec": {
   "display_name": "Python 3 (ipykernel)",
   "language": "python",
   "name": "python3"
  },
  "language_info": {
   "codemirror_mode": {
    "name": "ipython",
    "version": 3
   },
   "file_extension": ".py",
   "mimetype": "text/x-python",
   "name": "python",
   "nbconvert_exporter": "python",
   "pygments_lexer": "ipython3",
   "version": "3.9.6"
  }
 },
 "nbformat": 4,
 "nbformat_minor": 4
}

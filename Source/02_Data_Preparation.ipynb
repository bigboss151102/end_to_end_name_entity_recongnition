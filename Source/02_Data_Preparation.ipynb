{
 "cells": [
  {
   "cell_type": "code",
   "execution_count": 1,
   "id": "50dc8e6b-2500-4f56-b19e-9f5c4855bfb0",
   "metadata": {},
   "outputs": [],
   "source": [
    "import numpy as np\n",
    "import pandas as pd\n",
    "import cv2\n",
    "import pytesseract\n",
    "\n",
    "import os\n",
    "from glob import glob\n",
    "from tqdm import tqdm\n",
    "\n",
    "import warnings\n",
    "warnings.filterwarnings('ignore')"
   ]
  },
  {
   "cell_type": "code",
   "execution_count": 2,
   "id": "5abda953-64c7-4f50-9bda-a121b76b93e1",
   "metadata": {},
   "outputs": [],
   "source": [
    "imgPaths = glob('E:/FILE of Trong/NLP Project/ner/data/*.jpeg')"
   ]
  },
  {
   "cell_type": "code",
   "execution_count": 11,
   "id": "31b9644c-d52e-451f-9e33-30c02f229173",
   "metadata": {},
   "outputs": [
    {
     "name": "stderr",
     "output_type": "stream",
     "text": [
      "BusinessCard: 100%|██████████████████████████████████████████████████████████████████| 293/293 [18:36<00:00,  3.81s/it]\n"
     ]
    }
   ],
   "source": [
    "allBusinessCard = pd.DataFrame(columns = ['id', 'text'])\n",
    "for imgPath in tqdm(imgPaths, desc='BusinessCard'):\n",
    "    _, filename = os.path.split(imgPath)\n",
    "    #Extract data and Text\n",
    "    image = cv2.imread(imgPath)\n",
    "    data = pytesseract.image_to_data(image)\n",
    "    data_list = list(map(lambda x: x.split('\\t'), data.split('\\n')))\n",
    "    df = pd.DataFrame(data_list[1:], columns = data_list[0])\n",
    "    df.dropna(inplace=True)\n",
    "    df['conf'] = df['conf'].astype(int)\n",
    "    \n",
    "    useFulData = df.query('conf >= 30')\n",
    "    \n",
    "    #DataFrame\n",
    "    businessCard = pd.DataFrame()\n",
    "    businessCard['text'] = useFulData['text']\n",
    "    businessCard['id'] = filename\n",
    "\n",
    "    #Concatenation\n",
    "    allBusinessCard = pd.concat((allBusinessCard, businessCard))"
   ]
  },
  {
   "cell_type": "code",
   "execution_count": 13,
   "id": "e2fb941f-c992-46d6-998e-01ddd15a573d",
   "metadata": {},
   "outputs": [],
   "source": [
    "allBusinessCard.to_csv('businessCard.csv', index = False)"
   ]
  },
  {
   "cell_type": "code",
   "execution_count": null,
   "id": "bce131b6-26e8-4388-a0af-74bd28094741",
   "metadata": {},
   "outputs": [],
   "source": []
  }
 ],
 "metadata": {
  "kernelspec": {
   "display_name": "Python 3 (ipykernel)",
   "language": "python",
   "name": "python3"
  },
  "language_info": {
   "codemirror_mode": {
    "name": "ipython",
    "version": 3
   },
   "file_extension": ".py",
   "mimetype": "text/x-python",
   "name": "python",
   "nbconvert_exporter": "python",
   "pygments_lexer": "ipython3",
   "version": "3.9.6"
  }
 },
 "nbformat": 4,
 "nbformat_minor": 5
}

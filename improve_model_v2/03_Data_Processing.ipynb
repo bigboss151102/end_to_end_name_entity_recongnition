{
 "cells": [
  {
   "cell_type": "code",
   "execution_count": 1,
   "id": "49fa49d4-85b2-4147-99d0-d3338133dfc3",
   "metadata": {},
   "outputs": [],
   "source": [
    "import numpy as np\n",
    "import pandas as pd\n",
    "import string\n",
    "import re"
   ]
  },
  {
   "cell_type": "code",
   "execution_count": 2,
   "id": "bc29fff0-92df-45b4-904a-3d672ce0855c",
   "metadata": {},
   "outputs": [],
   "source": [
    "with open('E:/FILE of Trong/NLP Project/ner/improve_model_v2/businessCard.txt', mode= 'r', encoding='utf-16', errors='ignore') as f:\n",
    "    text = f.read()"
   ]
  },
  {
   "cell_type": "code",
   "execution_count": 3,
   "id": "7a7d5e0d-4f6f-4cf9-83f0-34bf203571d7",
   "metadata": {},
   "outputs": [],
   "source": [
    "data = list(map(lambda x: x.split('\\t'), text.split('\\n')))"
   ]
  },
  {
   "cell_type": "code",
   "execution_count": 4,
   "id": "d6773836-abb6-4828-8ab4-53d8b3e69342",
   "metadata": {},
   "outputs": [],
   "source": [
    "df = pd.DataFrame(data[1:], columns = data[0])"
   ]
  },
  {
   "cell_type": "code",
   "execution_count": 5,
   "id": "b9aa3c86-d18b-47d1-b41a-3644e8c6ac0c",
   "metadata": {},
   "outputs": [
    {
     "data": {
      "text/html": [
       "<div>\n",
       "<style scoped>\n",
       "    .dataframe tbody tr th:only-of-type {\n",
       "        vertical-align: middle;\n",
       "    }\n",
       "\n",
       "    .dataframe tbody tr th {\n",
       "        vertical-align: top;\n",
       "    }\n",
       "\n",
       "    .dataframe thead th {\n",
       "        text-align: right;\n",
       "    }\n",
       "</style>\n",
       "<table border=\"1\" class=\"dataframe\">\n",
       "  <thead>\n",
       "    <tr style=\"text-align: right;\">\n",
       "      <th></th>\n",
       "      <th>id</th>\n",
       "      <th>text</th>\n",
       "      <th>tag</th>\n",
       "    </tr>\n",
       "  </thead>\n",
       "  <tbody>\n",
       "    <tr>\n",
       "      <th>0</th>\n",
       "      <td>000.jpeg</td>\n",
       "      <td></td>\n",
       "      <td>O</td>\n",
       "    </tr>\n",
       "    <tr>\n",
       "      <th>1</th>\n",
       "      <td>000.jpeg</td>\n",
       "      <td>.</td>\n",
       "      <td>O</td>\n",
       "    </tr>\n",
       "    <tr>\n",
       "      <th>2</th>\n",
       "      <td>000.jpeg</td>\n",
       "      <td>040-4852</td>\n",
       "      <td>B-PHONE</td>\n",
       "    </tr>\n",
       "    <tr>\n",
       "      <th>3</th>\n",
       "      <td>000.jpeg</td>\n",
       "      <td>\"8881,\"</td>\n",
       "      <td>I-PHONE</td>\n",
       "    </tr>\n",
       "    <tr>\n",
       "      <th>4</th>\n",
       "      <td>000.jpeg</td>\n",
       "      <td>90309</td>\n",
       "      <td>B-PHONE</td>\n",
       "    </tr>\n",
       "  </tbody>\n",
       "</table>\n",
       "</div>"
      ],
      "text/plain": [
       "         id      text      tag\n",
       "0  000.jpeg                  O\n",
       "1  000.jpeg         .        O\n",
       "2  000.jpeg  040-4852  B-PHONE\n",
       "3  000.jpeg   \"8881,\"  I-PHONE\n",
       "4  000.jpeg     90309  B-PHONE"
      ]
     },
     "execution_count": 5,
     "metadata": {},
     "output_type": "execute_result"
    }
   ],
   "source": [
    "df.head()"
   ]
  },
  {
   "cell_type": "markdown",
   "id": "8236bf72-883e-40a7-977f-462f33e625f8",
   "metadata": {},
   "source": [
    "## Cleaning Text\n",
    "- Remove white space\n",
    "- Remove Unwanted specical characters"
   ]
  },
  {
   "cell_type": "code",
   "execution_count": 6,
   "id": "1f840eb1-38d6-49c1-b819-30754c013bbf",
   "metadata": {},
   "outputs": [
    {
     "data": {
      "text/plain": [
       "' \\t\\n\\r\\x0b\\x0c'"
      ]
     },
     "execution_count": 6,
     "metadata": {},
     "output_type": "execute_result"
    }
   ],
   "source": [
    "string.whitespace"
   ]
  },
  {
   "cell_type": "code",
   "execution_count": 7,
   "id": "aa3eed0c-2688-447c-b04d-5c3da51a1b6b",
   "metadata": {},
   "outputs": [
    {
     "data": {
      "text/plain": [
       "'!\"#$%&\\'()*+,-./:;<=>?@[\\\\]^_`{|}~'"
      ]
     },
     "execution_count": 7,
     "metadata": {},
     "output_type": "execute_result"
    }
   ],
   "source": [
    "string.punctuation"
   ]
  },
  {
   "cell_type": "code",
   "execution_count": 8,
   "id": "5fd30f42-f69c-43c5-84ef-a77054517105",
   "metadata": {},
   "outputs": [],
   "source": [
    "whitespace = string.whitespace\n",
    "punctuation = \"!#$%&\\'()*+:;<=>?[\\\\]^`{|}~\"\n",
    "tableWhitespace = str.maketrans('', '', whitespace)\n",
    "tablePunctuation = str.maketrans('','', punctuation)\n",
    "def cleanText(txt):\n",
    "    text = str(txt)\n",
    "    # text = text.lower()\n",
    "    removewhitespace = text.translate(tableWhitespace)\n",
    "    removepunctuation = removewhitespace.translate(tablePunctuation)\n",
    "    return str(removepunctuation)"
   ]
  },
  {
   "cell_type": "code",
   "execution_count": 9,
   "id": "62d45b3a-8b59-4e5c-9e82-8c15118b09ec",
   "metadata": {},
   "outputs": [],
   "source": [
    "df['text'] = df['text'].apply(cleanText)"
   ]
  },
  {
   "cell_type": "code",
   "execution_count": 10,
   "id": "267cb28b-6902-45ad-8d64-52223d7b1dbf",
   "metadata": {},
   "outputs": [
    {
     "name": "stderr",
     "output_type": "stream",
     "text": [
      "C:\\Users\\ADMIN\\AppData\\Local\\Temp\\ipykernel_9224\\1371438719.py:2: SettingWithCopyWarning: \n",
      "A value is trying to be set on a copy of a slice from a DataFrame\n",
      "\n",
      "See the caveats in the documentation: https://pandas.pydata.org/pandas-docs/stable/user_guide/indexing.html#returning-a-view-versus-a-copy\n",
      "  dataClean.dropna(inplace = True)\n"
     ]
    }
   ],
   "source": [
    "dataClean = df.query(\"text != '' \")\n",
    "dataClean.dropna(inplace = True)"
   ]
  },
  {
   "cell_type": "code",
   "execution_count": 11,
   "id": "d35e94a7-b27a-4e72-9dc4-defa68499712",
   "metadata": {},
   "outputs": [
    {
     "data": {
      "text/html": [
       "<div>\n",
       "<style scoped>\n",
       "    .dataframe tbody tr th:only-of-type {\n",
       "        vertical-align: middle;\n",
       "    }\n",
       "\n",
       "    .dataframe tbody tr th {\n",
       "        vertical-align: top;\n",
       "    }\n",
       "\n",
       "    .dataframe thead th {\n",
       "        text-align: right;\n",
       "    }\n",
       "</style>\n",
       "<table border=\"1\" class=\"dataframe\">\n",
       "  <thead>\n",
       "    <tr style=\"text-align: right;\">\n",
       "      <th></th>\n",
       "      <th>id</th>\n",
       "      <th>text</th>\n",
       "      <th>tag</th>\n",
       "    </tr>\n",
       "  </thead>\n",
       "  <tbody>\n",
       "    <tr>\n",
       "      <th>1</th>\n",
       "      <td>000.jpeg</td>\n",
       "      <td>.</td>\n",
       "      <td>O</td>\n",
       "    </tr>\n",
       "    <tr>\n",
       "      <th>2</th>\n",
       "      <td>000.jpeg</td>\n",
       "      <td>040-4852</td>\n",
       "      <td>B-PHONE</td>\n",
       "    </tr>\n",
       "    <tr>\n",
       "      <th>3</th>\n",
       "      <td>000.jpeg</td>\n",
       "      <td>\"8881,\"</td>\n",
       "      <td>I-PHONE</td>\n",
       "    </tr>\n",
       "    <tr>\n",
       "      <th>4</th>\n",
       "      <td>000.jpeg</td>\n",
       "      <td>90309</td>\n",
       "      <td>B-PHONE</td>\n",
       "    </tr>\n",
       "    <tr>\n",
       "      <th>5</th>\n",
       "      <td>000.jpeg</td>\n",
       "      <td>52549</td>\n",
       "      <td>I-PHONE</td>\n",
       "    </tr>\n",
       "    <tr>\n",
       "      <th>6</th>\n",
       "      <td>000.jpeg</td>\n",
       "      <td>Fi</td>\n",
       "      <td>O</td>\n",
       "    </tr>\n",
       "    <tr>\n",
       "      <th>7</th>\n",
       "      <td>000.jpeg</td>\n",
       "      <td>/laurelsoverseaseducation</td>\n",
       "      <td>O</td>\n",
       "    </tr>\n",
       "    <tr>\n",
       "      <th>8</th>\n",
       "      <td>000.jpeg</td>\n",
       "      <td>‰ÛÏ@</td>\n",
       "      <td>O</td>\n",
       "    </tr>\n",
       "    <tr>\n",
       "      <th>9</th>\n",
       "      <td>000.jpeg</td>\n",
       "      <td>LAURELS</td>\n",
       "      <td>B-ORG</td>\n",
       "    </tr>\n",
       "    <tr>\n",
       "      <th>10</th>\n",
       "      <td>000.jpeg</td>\n",
       "      <td>OVERSEAS</td>\n",
       "      <td>I-ORG</td>\n",
       "    </tr>\n",
       "  </tbody>\n",
       "</table>\n",
       "</div>"
      ],
      "text/plain": [
       "          id                       text      tag\n",
       "1   000.jpeg                          .        O\n",
       "2   000.jpeg                   040-4852  B-PHONE\n",
       "3   000.jpeg                    \"8881,\"  I-PHONE\n",
       "4   000.jpeg                      90309  B-PHONE\n",
       "5   000.jpeg                      52549  I-PHONE\n",
       "6   000.jpeg                         Fi        O\n",
       "7   000.jpeg  /laurelsoverseaseducation        O\n",
       "8   000.jpeg                       ‰ÛÏ@        O\n",
       "9   000.jpeg                    LAURELS    B-ORG\n",
       "10  000.jpeg                   OVERSEAS    I-ORG"
      ]
     },
     "execution_count": 11,
     "metadata": {},
     "output_type": "execute_result"
    }
   ],
   "source": [
    "dataClean.head(10)"
   ]
  },
  {
   "cell_type": "markdown",
   "id": "46833ce9-935c-44c0-b547-88c1ed160745",
   "metadata": {},
   "source": [
    "# Convert Data into Spacy Format"
   ]
  },
  {
   "cell_type": "code",
   "execution_count": 12,
   "id": "da489043-60a1-46aa-b1af-5dcbcbcbaaa9",
   "metadata": {},
   "outputs": [],
   "source": [
    "group = dataClean.groupby(by='id')"
   ]
  },
  {
   "cell_type": "code",
   "execution_count": 13,
   "id": "879d7304-9ff3-48e5-91e8-d74d5d19e894",
   "metadata": {},
   "outputs": [],
   "source": [
    "cards = group.groups.keys()"
   ]
  },
  {
   "cell_type": "code",
   "execution_count": 14,
   "id": "1df5edc6-1367-41ca-88d3-e6e0a1cd91ba",
   "metadata": {},
   "outputs": [],
   "source": [
    "allCardsData = []\n",
    "for card in cards:\n",
    "    cardData = []\n",
    "    grouparray = group.get_group(card)[['text','tag']].values\n",
    "    content = ''\n",
    "    annotations = {'entities': []}\n",
    "    start = 0\n",
    "    end = 0\n",
    "    for text, label in grouparray:\n",
    "        text = str(text)\n",
    "        stringLength = len(text) + 1\n",
    "        start = end\n",
    "        end = start + stringLength\n",
    "        if label != 'O':\n",
    "            annot = (start, end-1, label)\n",
    "            annotations['entities'].append(annot)\n",
    "        content = content + text + ' '\n",
    "    cardData = (content, annotations)\n",
    "    allCardsData.append(cardData)"
   ]
  },
  {
   "cell_type": "code",
   "execution_count": 15,
   "id": "5f814de6-fca7-418c-b84f-7baf42944adf",
   "metadata": {},
   "outputs": [],
   "source": [
    "# allCardsData"
   ]
  },
  {
   "cell_type": "code",
   "execution_count": 15,
   "id": "aaf5cf1a-bba0-423c-bd01-2c1cf9d6c95c",
   "metadata": {},
   "outputs": [],
   "source": [
    "card_data_df = pd.DataFrame(allCardsData, columns = ['text', 'labels'])"
   ]
  },
  {
   "cell_type": "code",
   "execution_count": 16,
   "id": "3ccd1bd7-1758-494d-aad8-bdabef5b28db",
   "metadata": {},
   "outputs": [],
   "source": [
    "card_data_df['isNull'] = card_data_df['labels'].apply(lambda x: 'Null' if len(x['entities']) == 0 else 'Clean')"
   ]
  },
  {
   "cell_type": "markdown",
   "id": "3f55a85e-ca5b-4453-9b0a-6fd4d2fed7a8",
   "metadata": {},
   "source": [
    "### Null entries need to drop"
   ]
  },
  {
   "cell_type": "code",
   "execution_count": 17,
   "id": "74664289-f74f-4b1a-a786-c767f17df82e",
   "metadata": {},
   "outputs": [
    {
     "data": {
      "text/html": [
       "<div>\n",
       "<style scoped>\n",
       "    .dataframe tbody tr th:only-of-type {\n",
       "        vertical-align: middle;\n",
       "    }\n",
       "\n",
       "    .dataframe tbody tr th {\n",
       "        vertical-align: top;\n",
       "    }\n",
       "\n",
       "    .dataframe thead th {\n",
       "        text-align: right;\n",
       "    }\n",
       "</style>\n",
       "<table border=\"1\" class=\"dataframe\">\n",
       "  <thead>\n",
       "    <tr style=\"text-align: right;\">\n",
       "      <th></th>\n",
       "      <th>text</th>\n",
       "      <th>labels</th>\n",
       "      <th>isNull</th>\n",
       "    </tr>\n",
       "  </thead>\n",
       "  <tbody>\n",
       "    <tr>\n",
       "      <th>27</th>\n",
       "      <td>ae Be 3</td>\n",
       "      <td>{'entities': []}</td>\n",
       "      <td>Null</td>\n",
       "    </tr>\n",
       "    <tr>\n",
       "      <th>60</th>\n",
       "      <td>Le \"95,\" Nungambakkam High \"Road,\" \"Nungambakk...</td>\n",
       "      <td>{'entities': []}</td>\n",
       "      <td>Null</td>\n",
       "    </tr>\n",
       "  </tbody>\n",
       "</table>\n",
       "</div>"
      ],
      "text/plain": [
       "                                                 text            labels isNull\n",
       "27                                           ae Be 3   {'entities': []}   Null\n",
       "60  Le \"95,\" Nungambakkam High \"Road,\" \"Nungambakk...  {'entities': []}   Null"
      ]
     },
     "execution_count": 17,
     "metadata": {},
     "output_type": "execute_result"
    }
   ],
   "source": [
    "card_data_df.query('isNull == \"Null\"')"
   ]
  },
  {
   "cell_type": "code",
   "execution_count": 18,
   "id": "47d21340-cf85-4989-b7db-5e729030ba03",
   "metadata": {},
   "outputs": [],
   "source": [
    "card_data_df.dropna(inplace=True)\n",
    "clean_data = card_data_df.query('isNull == \"Clean\"')[['text','labels']]"
   ]
  },
  {
   "cell_type": "code",
   "execution_count": 19,
   "id": "776bfaa3-40e5-48ee-9846-cdf7059e0374",
   "metadata": {},
   "outputs": [],
   "source": [
    "allCardsData = list(map(lambda x: tuple(x), clean_data.values.tolist()))"
   ]
  },
  {
   "cell_type": "code",
   "execution_count": 20,
   "id": "f3c9f48e-09bc-49f6-b32f-8f2cf7bbdbbf",
   "metadata": {},
   "outputs": [],
   "source": [
    "# allCardsData"
   ]
  },
  {
   "cell_type": "markdown",
   "id": "0fb44d26-f62e-42a9-8833-4ff8e43ce429",
   "metadata": {},
   "source": [
    "### Split Data into Traning and Testing"
   ]
  },
  {
   "cell_type": "code",
   "execution_count": 21,
   "id": "c8f3c07e-fd83-4b2e-a6a4-bb41a6057db6",
   "metadata": {},
   "outputs": [],
   "source": [
    "import random"
   ]
  },
  {
   "cell_type": "code",
   "execution_count": 22,
   "id": "f85c2482-f914-4e5c-9917-70cbf2abbd8b",
   "metadata": {},
   "outputs": [],
   "source": [
    "random.shuffle(allCardsData)"
   ]
  },
  {
   "cell_type": "code",
   "execution_count": 23,
   "id": "a8d7867d-03fe-4558-bdea-d93d7ba1ff89",
   "metadata": {},
   "outputs": [
    {
     "data": {
      "text/plain": [
       "265"
      ]
     },
     "execution_count": 23,
     "metadata": {},
     "output_type": "execute_result"
    }
   ],
   "source": [
    "len(allCardsData)"
   ]
  },
  {
   "cell_type": "code",
   "execution_count": 24,
   "id": "4a415526-4217-438c-aa39-7f6aeeb4cc70",
   "metadata": {},
   "outputs": [],
   "source": [
    "TrainData = allCardsData[:240]\n",
    "TestData = allCardsData[240:]"
   ]
  },
  {
   "cell_type": "code",
   "execution_count": 25,
   "id": "eac93271-f267-4628-b02c-26f3be7da516",
   "metadata": {},
   "outputs": [],
   "source": [
    "import pickle"
   ]
  },
  {
   "cell_type": "code",
   "execution_count": 27,
   "id": "953f2270-6671-44f3-ba43-a71384083ba5",
   "metadata": {},
   "outputs": [],
   "source": [
    "pickle.dump(TrainData, open('E:/FILE of Trong/NLP Project/ner/improve_model_v2/data/TrainData.pickle', mode='wb'))\n",
    "pickle.dump(TestData, open('E:/FILE of Trong/NLP Project/ner/improve_model_v2/data/TestData.pickle', mode='wb'))"
   ]
  },
  {
   "cell_type": "code",
   "execution_count": null,
   "id": "79c27e8c-67ca-44e1-a240-8f9816ef51c4",
   "metadata": {},
   "outputs": [],
   "source": []
  }
 ],
 "metadata": {
  "kernelspec": {
   "display_name": "Python 3 (ipykernel)",
   "language": "python",
   "name": "python3"
  },
  "language_info": {
   "codemirror_mode": {
    "name": "ipython",
    "version": 3
   },
   "file_extension": ".py",
   "mimetype": "text/x-python",
   "name": "python",
   "nbconvert_exporter": "python",
   "pygments_lexer": "ipython3",
   "version": "3.9.6"
  }
 },
 "nbformat": 4,
 "nbformat_minor": 5
}
